{
 "metadata": {
  "language_info": {
   "codemirror_mode": {
    "name": "ipython",
    "version": 3
   },
   "file_extension": ".py",
   "mimetype": "text/x-python",
   "name": "python",
   "nbconvert_exporter": "python",
   "pygments_lexer": "ipython3",
   "version": "3.9.2"
  },
  "orig_nbformat": 2,
  "kernelspec": {
   "name": "python3",
   "display_name": "Python 3.9.2 64-bit"
  },
  "interpreter": {
   "hash": "ca7165b3874c121c9f63e9490792d5288fe8335c417634071cb2f60b95a24850"
  }
 },
 "nbformat": 4,
 "nbformat_minor": 2,
 "cells": [
  {
   "cell_type": "code",
   "execution_count": null,
   "source": [
    "import ica"
   ],
   "outputs": [],
   "metadata": {}
  },
  {
   "cell_type": "code",
   "execution_count": null,
   "source": [
    "df_receipts = ica.all_receipts(['Butik kvitto.xml', 'Butik kvitto 2.xml'])\r\n",
    "df_items = ica.all_items(['Butik kvittorader.xml', 'Butik kvittorader 2.xml'])"
   ],
   "outputs": [],
   "metadata": {}
  },
  {
   "cell_type": "code",
   "execution_count": null,
   "source": [
    "ica.plot_aggr_monthly_totals(df_receipts)"
   ],
   "outputs": [],
   "metadata": {}
  },
  {
   "cell_type": "code",
   "execution_count": null,
   "source": [
    "df_prices, df_quantity, df_costs = ica.analytics(df_receipts, df_items)"
   ],
   "outputs": [],
   "metadata": {}
  },
  {
   "cell_type": "code",
   "execution_count": null,
   "source": [
    "ica.plot_df_rows(df_quantity, 'Quantity')"
   ],
   "outputs": [],
   "metadata": {}
  },
  {
   "cell_type": "code",
   "execution_count": null,
   "source": [
    "ica.plot_df_rows(df_prices, 'Prices', n_plots=10)"
   ],
   "outputs": [],
   "metadata": {}
  },
  {
   "cell_type": "code",
   "execution_count": null,
   "source": [
    "ica.plot_df_rows(df_costs, 'Costs')"
   ],
   "outputs": [],
   "metadata": {}
  },
  {
   "cell_type": "markdown",
   "source": [
    "# Total costs for the entire period covered by receipts"
   ],
   "metadata": {}
  },
  {
   "cell_type": "code",
   "execution_count": null,
   "source": [
    "df_total_costs = ica.items_totals(df_costs, df_quantity)\r\n",
    "df_total_costs.head(20)"
   ],
   "outputs": [],
   "metadata": {}
  },
  {
   "cell_type": "markdown",
   "source": [
    "# Year to Year (May 2021 - May 2022)"
   ],
   "metadata": {}
  },
  {
   "cell_type": "code",
   "execution_count": null,
   "source": [
    "df_costs_Y2Y = df_costs.loc[:,'2021-05':'2022-05']\r\n",
    "df_quantity_Y2Y = df_quantity.loc[:, '2021-05':'2022-05'] \r\n",
    "df_Y2Y = ica.items_totals(df_costs_Y2Y, df_quantity_Y2Y)\r\n",
    "df_Y2Y.head(20)"
   ],
   "outputs": [],
   "metadata": {}
  },
  {
   "cell_type": "code",
   "execution_count": null,
   "source": [
    "df_Y2Y['sum'].head(20).plot(kind='bar');"
   ],
   "outputs": [],
   "metadata": {}
  },
  {
   "cell_type": "code",
   "execution_count": null,
   "source": [],
   "outputs": [],
   "metadata": {}
  }
 ]
}